{
 "cells": [
  {
   "cell_type": "markdown",
   "id": "fae777ca",
   "metadata": {},
   "source": [
    "## Series "
   ]
  },
  {
   "cell_type": "code",
   "execution_count": 2,
   "id": "b56ed546",
   "metadata": {},
   "outputs": [],
   "source": [
    "import pandas as pd "
   ]
  },
  {
   "cell_type": "code",
   "execution_count": 4,
   "id": "1303f895",
   "metadata": {},
   "outputs": [
    {
     "data": {
      "text/plain": [
       "0         coke\n",
       "1        pepsi\n",
       "2    dr.pepper\n",
       "dtype: object"
      ]
     },
     "execution_count": 4,
     "metadata": {},
     "output_type": "execute_result"
    }
   ],
   "source": [
    "# a series is a single object that combines attributes of a list and dictionary \n",
    "\n",
    "soda_flavors = [\"coke\", \"pepsi\", \"dr.pepper\"]\n",
    "\n",
    "# dtype object is a string\n",
    "# index is a list index or a key of dictionary\n",
    "pd.Series(soda_flavors)\n"
   ]
  },
  {
   "cell_type": "code",
   "execution_count": 6,
   "id": "9115beff",
   "metadata": {},
   "outputs": [
    {
     "data": {
      "text/plain": [
       "0     4\n",
       "1     8\n",
       "2     1\n",
       "3    15\n",
       "dtype: int64"
      ]
     },
     "execution_count": 6,
     "metadata": {},
     "output_type": "execute_result"
    }
   ],
   "source": [
    "lottery = [4, 8, 1, 15]\n",
    "\n",
    "pd.Series(lottery)"
   ]
  },
  {
   "cell_type": "code",
   "execution_count": 8,
   "id": "5a18ed49",
   "metadata": {},
   "outputs": [
    {
     "data": {
      "text/plain": [
       "0     True\n",
       "1    False\n",
       "2     True\n",
       "dtype: bool"
      ]
     },
     "execution_count": 8,
     "metadata": {},
     "output_type": "execute_result"
    }
   ],
   "source": [
    "registration = [True, False, True]\n",
    "\n",
    "pd.Series(registration)"
   ]
  },
  {
   "cell_type": "markdown",
   "id": "ca20f540",
   "metadata": {},
   "source": [
    "## Series from a dictionary "
   ]
  },
  {
   "cell_type": "code",
   "execution_count": 10,
   "id": "49f7cf38",
   "metadata": {},
   "outputs": [
    {
     "data": {
      "text/plain": [
       "Salmon    Orange\n",
       "Tuna         Red\n",
       "Eel        Brown\n",
       "dtype: object"
      ]
     },
     "execution_count": 10,
     "metadata": {},
     "output_type": "execute_result"
    }
   ],
   "source": [
    "sushi = {\n",
    "    \"Salmon\":\"Orange\", \n",
    "    \"Tuna\":\"Red\",\n",
    "    \"Eel\":\"Brown\"\n",
    "}\n",
    "\n",
    "\n",
    "pd.Series(sushi)"
   ]
  },
  {
   "cell_type": "code",
   "execution_count": 13,
   "id": "9c22948a",
   "metadata": {},
   "outputs": [
    {
     "data": {
      "text/plain": [
       "Flour     True\n",
       "Sugar     True\n",
       "Salt     False\n",
       "dtype: bool"
      ]
     },
     "execution_count": 13,
     "metadata": {},
     "output_type": "execute_result"
    }
   ],
   "source": [
    "recipe = {\n",
    "    \"Flour\":True, \n",
    "    \"Sugar\":True, \n",
    "    \"Salt\":False\n",
    "}\n",
    "\n",
    "pd.Series(recipe)"
   ]
  },
  {
   "cell_type": "markdown",
   "id": "8cb31f37",
   "metadata": {},
   "source": [
    "## Methods "
   ]
  },
  {
   "cell_type": "code",
   "execution_count": 14,
   "id": "4ab2b1e3",
   "metadata": {},
   "outputs": [
    {
     "data": {
      "text/plain": [
       "0    2.99\n",
       "1    4.45\n",
       "2    4.55\n",
       "dtype: float64"
      ]
     },
     "execution_count": 14,
     "metadata": {},
     "output_type": "execute_result"
    }
   ],
   "source": [
    "prices = pd.Series([2.99, 4.45, 4.55])\n",
    "prices"
   ]
  },
  {
   "cell_type": "code",
   "execution_count": 15,
   "id": "2c397f74",
   "metadata": {},
   "outputs": [
    {
     "data": {
      "text/plain": [
       "11.99"
      ]
     },
     "execution_count": 15,
     "metadata": {},
     "output_type": "execute_result"
    }
   ],
   "source": [
    "prices.sum() "
   ]
  },
  {
   "cell_type": "code",
   "execution_count": 17,
   "id": "2bf2695f",
   "metadata": {},
   "outputs": [
    {
     "data": {
      "text/plain": [
       "60.54002500000001"
      ]
     },
     "execution_count": 17,
     "metadata": {},
     "output_type": "execute_result"
    }
   ],
   "source": [
    "prices.product()"
   ]
  },
  {
   "cell_type": "code",
   "execution_count": 18,
   "id": "4ebce8b6",
   "metadata": {},
   "outputs": [
    {
     "data": {
      "text/plain": [
       "3.9966666666666666"
      ]
     },
     "execution_count": 18,
     "metadata": {},
     "output_type": "execute_result"
    }
   ],
   "source": [
    "prices.mean()"
   ]
  },
  {
   "cell_type": "markdown",
   "id": "1a3f9921",
   "metadata": {},
   "source": [
    "## Attributes  "
   ]
  },
  {
   "cell_type": "code",
   "execution_count": 20,
   "id": "aa078d50",
   "metadata": {},
   "outputs": [
    {
     "data": {
      "text/plain": [
       "0        Smart\n",
       "1      Handsom\n",
       "2     Charming\n",
       "3    Brilliant\n",
       "dtype: object"
      ]
     },
     "execution_count": 20,
     "metadata": {},
     "output_type": "execute_result"
    }
   ],
   "source": [
    "adjective = pd.Series([\"Smart\", \"Handsom\", \"Charming\", \"Brilliant\"])\n",
    "adjective "
   ]
  },
  {
   "cell_type": "code",
   "execution_count": 24,
   "id": "eb7a4dda",
   "metadata": {},
   "outputs": [
    {
     "data": {
      "text/plain": [
       "4"
      ]
     },
     "execution_count": 24,
     "metadata": {},
     "output_type": "execute_result"
    }
   ],
   "source": [
    "# returns size of series \n",
    "adjective.size"
   ]
  },
  {
   "cell_type": "code",
   "execution_count": 26,
   "id": "f28f1c46",
   "metadata": {},
   "outputs": [
    {
     "data": {
      "text/plain": [
       "True"
      ]
     },
     "execution_count": 26,
     "metadata": {},
     "output_type": "execute_result"
    }
   ],
   "source": [
    "# returns boolean if elements are unique \n",
    "adjective.is_unique"
   ]
  },
  {
   "cell_type": "code",
   "execution_count": 29,
   "id": "8e7caf5c",
   "metadata": {},
   "outputs": [
    {
     "data": {
      "text/plain": [
       "array(['Smart', 'Handsom', 'Charming', 'Brilliant'], dtype=object)"
      ]
     },
     "execution_count": 29,
     "metadata": {},
     "output_type": "execute_result"
    }
   ],
   "source": [
    "# returns a numpy array\n",
    "adjective.values"
   ]
  },
  {
   "cell_type": "code",
   "execution_count": 30,
   "id": "8ba4cdd4",
   "metadata": {},
   "outputs": [
    {
     "data": {
      "text/plain": [
       "numpy.ndarray"
      ]
     },
     "execution_count": 30,
     "metadata": {},
     "output_type": "execute_result"
    }
   ],
   "source": [
    "type(adjective.values)"
   ]
  },
  {
   "cell_type": "code",
   "execution_count": 32,
   "id": "392f88ae",
   "metadata": {},
   "outputs": [
    {
     "data": {
      "text/plain": [
       "RangeIndex(start=0, stop=4, step=1)"
      ]
     },
     "execution_count": 32,
     "metadata": {},
     "output_type": "execute_result"
    }
   ],
   "source": [
    "# returns a object that makes up an index \n",
    "adjective.index"
   ]
  },
  {
   "cell_type": "code",
   "execution_count": 34,
   "id": "4b578ff4",
   "metadata": {},
   "outputs": [
    {
     "data": {
      "text/plain": [
       "pandas.core.indexes.range.RangeIndex"
      ]
     },
     "execution_count": 34,
     "metadata": {},
     "output_type": "execute_result"
    }
   ],
   "source": [
    "type(adjective.index)"
   ]
  },
  {
   "cell_type": "code",
   "execution_count": 35,
   "id": "2859dff4",
   "metadata": {},
   "outputs": [
    {
     "data": {
      "text/plain": [
       "dtype('O')"
      ]
     },
     "execution_count": 35,
     "metadata": {},
     "output_type": "execute_result"
    }
   ],
   "source": [
    "adjective.dtype"
   ]
  },
  {
   "cell_type": "code",
   "execution_count": null,
   "id": "7ee49591",
   "metadata": {},
   "outputs": [],
   "source": [
    "f"
   ]
  }
 ],
 "metadata": {
  "kernelspec": {
   "display_name": "Python 3",
   "language": "python",
   "name": "python3"
  },
  "language_info": {
   "codemirror_mode": {
    "name": "ipython",
    "version": 3
   },
   "file_extension": ".py",
   "mimetype": "text/x-python",
   "name": "python",
   "nbconvert_exporter": "python",
   "pygments_lexer": "ipython3",
   "version": "3.8.8"
  }
 },
 "nbformat": 4,
 "nbformat_minor": 5
}
