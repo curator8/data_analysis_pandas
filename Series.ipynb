{
 "cells": [
  {
   "cell_type": "markdown",
   "id": "fae777ca",
   "metadata": {},
   "source": [
    "## Series "
   ]
  },
  {
   "cell_type": "code",
   "execution_count": 4,
   "id": "b56ed546",
   "metadata": {},
   "outputs": [],
   "source": [
    "import pandas as pd \n",
    "stockprice_series = pd.read_csv(\"data/google_stock_price.csv\", usecols = [\"Stock Price\"]).squeeze(\"columns\")\n",
    "pokemon_series = pd.read_csv(\"data/pokemon.csv\", usecols = [\"Pokemon\"]).squeeze(\"columns\") # usecols are columns we want to keep \n"
   ]
  },
  {
   "cell_type": "code",
   "execution_count": 4,
   "id": "1303f895",
   "metadata": {},
   "outputs": [
    {
     "data": {
      "text/plain": [
       "0         coke\n",
       "1        pepsi\n",
       "2    dr.pepper\n",
       "dtype: object"
      ]
     },
     "execution_count": 4,
     "metadata": {},
     "output_type": "execute_result"
    }
   ],
   "source": [
    "# a series is a single object that combines attributes of a list and dictionary \n",
    "\n",
    "soda_flavors = [\"coke\", \"pepsi\", \"dr.pepper\"]\n",
    "\n",
    "\n",
    "# dtype object is a string\n",
    "# index is a list index or a key of dictionary\n",
    "pd.Series(soda_flavors)\n"
   ]
  },
  {
   "cell_type": "code",
   "execution_count": 6,
   "id": "9115beff",
   "metadata": {},
   "outputs": [
    {
     "data": {
      "text/plain": [
       "0     4\n",
       "1     8\n",
       "2     1\n",
       "3    15\n",
       "dtype: int64"
      ]
     },
     "execution_count": 6,
     "metadata": {},
     "output_type": "execute_result"
    }
   ],
   "source": [
    "lottery = [4, 8, 1, 15]\n",
    "\n",
    "pd.Series(lottery)"
   ]
  },
  {
   "cell_type": "code",
   "execution_count": 8,
   "id": "5a18ed49",
   "metadata": {},
   "outputs": [
    {
     "data": {
      "text/plain": [
       "0     True\n",
       "1    False\n",
       "2     True\n",
       "dtype: bool"
      ]
     },
     "execution_count": 8,
     "metadata": {},
     "output_type": "execute_result"
    }
   ],
   "source": [
    "registration = [True, False, True]\n",
    "\n",
    "pd.Series(registration)"
   ]
  },
  {
   "cell_type": "markdown",
   "id": "ca20f540",
   "metadata": {},
   "source": [
    "## Series from a dictionary "
   ]
  },
  {
   "cell_type": "code",
   "execution_count": 10,
   "id": "49f7cf38",
   "metadata": {},
   "outputs": [
    {
     "data": {
      "text/plain": [
       "Salmon    Orange\n",
       "Tuna         Red\n",
       "Eel        Brown\n",
       "dtype: object"
      ]
     },
     "execution_count": 10,
     "metadata": {},
     "output_type": "execute_result"
    }
   ],
   "source": [
    "sushi = {\n",
    "    \"Salmon\":\"Orange\", \n",
    "    \"Tuna\":\"Red\",\n",
    "    \"Eel\":\"Brown\"\n",
    "}\n",
    "\n",
    "\n",
    "pd.Series(sushi)"
   ]
  },
  {
   "cell_type": "code",
   "execution_count": 13,
   "id": "9c22948a",
   "metadata": {},
   "outputs": [
    {
     "data": {
      "text/plain": [
       "Flour     True\n",
       "Sugar     True\n",
       "Salt     False\n",
       "dtype: bool"
      ]
     },
     "execution_count": 13,
     "metadata": {},
     "output_type": "execute_result"
    }
   ],
   "source": [
    "recipe = {\n",
    "    \"Flour\":True, \n",
    "    \"Sugar\":True, \n",
    "    \"Salt\":False\n",
    "}\n",
    "\n",
    "pd.Series(recipe)"
   ]
  },
  {
   "cell_type": "markdown",
   "id": "8cb31f37",
   "metadata": {},
   "source": [
    "## Methods "
   ]
  },
  {
   "cell_type": "code",
   "execution_count": 14,
   "id": "4ab2b1e3",
   "metadata": {},
   "outputs": [
    {
     "data": {
      "text/plain": [
       "0    2.99\n",
       "1    4.45\n",
       "2    4.55\n",
       "dtype: float64"
      ]
     },
     "execution_count": 14,
     "metadata": {},
     "output_type": "execute_result"
    }
   ],
   "source": [
    "prices = pd.Series([2.99, 4.45, 4.55])\n",
    "prices"
   ]
  },
  {
   "cell_type": "code",
   "execution_count": 15,
   "id": "2c397f74",
   "metadata": {},
   "outputs": [
    {
     "data": {
      "text/plain": [
       "11.99"
      ]
     },
     "execution_count": 15,
     "metadata": {},
     "output_type": "execute_result"
    }
   ],
   "source": [
    "prices.sum() "
   ]
  },
  {
   "cell_type": "code",
   "execution_count": 17,
   "id": "2bf2695f",
   "metadata": {},
   "outputs": [
    {
     "data": {
      "text/plain": [
       "60.54002500000001"
      ]
     },
     "execution_count": 17,
     "metadata": {},
     "output_type": "execute_result"
    }
   ],
   "source": [
    "prices.product()"
   ]
  },
  {
   "cell_type": "code",
   "execution_count": 48,
   "id": "4ebce8b6",
   "metadata": {},
   "outputs": [
    {
     "ename": "NameError",
     "evalue": "name 'prices' is not defined",
     "output_type": "error",
     "traceback": [
      "\u001b[1;31m---------------------------------------------------------------------------\u001b[0m",
      "\u001b[1;31mNameError\u001b[0m                                 Traceback (most recent call last)",
      "\u001b[1;32m<ipython-input-48-ff3503e370df>\u001b[0m in \u001b[0;36m<module>\u001b[1;34m\u001b[0m\n\u001b[1;32m----> 1\u001b[1;33m \u001b[0mprices\u001b[0m\u001b[1;33m.\u001b[0m\u001b[0mmean\u001b[0m\u001b[1;33m(\u001b[0m\u001b[1;33m)\u001b[0m\u001b[1;33m\u001b[0m\u001b[1;33m\u001b[0m\u001b[0m\n\u001b[0m",
      "\u001b[1;31mNameError\u001b[0m: name 'prices' is not defined"
     ]
    }
   ],
   "source": [
    "prices.mean()"
   ]
  },
  {
   "cell_type": "code",
   "execution_count": 57,
   "id": "5a4542ee",
   "metadata": {},
   "outputs": [
    {
     "data": {
      "text/plain": [
       "570     Zoroark\n",
       "569       Zorua\n",
       "40        Zubat\n",
       "633    Zweilous\n",
       "717     Zygarde\n",
       "Name: Pokemon, dtype: object"
      ]
     },
     "execution_count": 57,
     "metadata": {},
     "output_type": "execute_result"
    }
   ],
   "source": [
    "pokemon_series.sort_values().head() #sorted values using method \n",
    "pokemon_series.sort_values(ascending = True).tail()"
   ]
  },
  {
   "cell_type": "code",
   "execution_count": 62,
   "id": "dca10be8",
   "metadata": {},
   "outputs": [
    {
     "data": {
      "text/plain": [
       "11       49.95\n",
       "9        50.07\n",
       "0        50.12\n",
       "10       50.70\n",
       "12       50.74\n",
       "         ...  \n",
       "3010    771.61\n",
       "3007    772.88\n",
       "3009    773.18\n",
       "2859    776.60\n",
       "3011    782.22\n",
       "Name: Stock Price, Length: 3012, dtype: float64"
      ]
     },
     "execution_count": 62,
     "metadata": {},
     "output_type": "execute_result"
    }
   ],
   "source": [
    "stockprice_series.sort_values() #remember we keep the original index value \n",
    "stockprice_series.sort_values(ascending = True)"
   ]
  },
  {
   "cell_type": "code",
   "execution_count": 139,
   "id": "265f409a",
   "metadata": {},
   "outputs": [
    {
     "data": {
      "text/plain": [
       "Pokemon\n",
       "Zygarde       Dragon\n",
       "Zweilous        Dark\n",
       "Zubat         Poison\n",
       "Zorua           Dark\n",
       "Zoroark         Dark\n",
       "              ...   \n",
       "Aegislash      Steel\n",
       "Accelgor         Bug\n",
       "Absol           Dark\n",
       "Abra         Psychic\n",
       "Abomasnow      Grass\n",
       "Name: Type, Length: 721, dtype: object"
      ]
     },
     "execution_count": 139,
     "metadata": {},
     "output_type": "execute_result"
    }
   ],
   "source": [
    "pokemon = pd.read_csv(\"data/pokemon.csv\", index_col = \"Pokemon\").squeeze(\"columns\") #made the pokemon name index\n",
    "pokemon.head()\n",
    "pokemon.sort_index(ascending = False) #sort by index not values "
   ]
  },
  {
   "cell_type": "markdown",
   "id": "1a3f9921",
   "metadata": {},
   "source": [
    "## Attributes  "
   ]
  },
  {
   "cell_type": "code",
   "execution_count": 20,
   "id": "aa078d50",
   "metadata": {},
   "outputs": [
    {
     "data": {
      "text/plain": [
       "0        Smart\n",
       "1      Handsom\n",
       "2     Charming\n",
       "3    Brilliant\n",
       "dtype: object"
      ]
     },
     "execution_count": 20,
     "metadata": {},
     "output_type": "execute_result"
    }
   ],
   "source": [
    "adjective = pd.Series([\"Smart\", \"Handsom\", \"Charming\", \"Brilliant\"])\n",
    "adjective "
   ]
  },
  {
   "cell_type": "code",
   "execution_count": 24,
   "id": "eb7a4dda",
   "metadata": {},
   "outputs": [
    {
     "data": {
      "text/plain": [
       "4"
      ]
     },
     "execution_count": 24,
     "metadata": {},
     "output_type": "execute_result"
    }
   ],
   "source": [
    "# returns size of series \n",
    "adjective.size"
   ]
  },
  {
   "cell_type": "code",
   "execution_count": 26,
   "id": "f28f1c46",
   "metadata": {},
   "outputs": [
    {
     "data": {
      "text/plain": [
       "True"
      ]
     },
     "execution_count": 26,
     "metadata": {},
     "output_type": "execute_result"
    }
   ],
   "source": [
    "# returns boolean if elements are unique \n",
    "adjective.is_unique"
   ]
  },
  {
   "cell_type": "code",
   "execution_count": 29,
   "id": "8e7caf5c",
   "metadata": {},
   "outputs": [
    {
     "data": {
      "text/plain": [
       "array(['Smart', 'Handsom', 'Charming', 'Brilliant'], dtype=object)"
      ]
     },
     "execution_count": 29,
     "metadata": {},
     "output_type": "execute_result"
    }
   ],
   "source": [
    "# returns a numpy array\n",
    "adjective.values"
   ]
  },
  {
   "cell_type": "code",
   "execution_count": 30,
   "id": "8ba4cdd4",
   "metadata": {},
   "outputs": [
    {
     "data": {
      "text/plain": [
       "numpy.ndarray"
      ]
     },
     "execution_count": 30,
     "metadata": {},
     "output_type": "execute_result"
    }
   ],
   "source": [
    "type(adjective.values)"
   ]
  },
  {
   "cell_type": "code",
   "execution_count": 32,
   "id": "392f88ae",
   "metadata": {},
   "outputs": [
    {
     "data": {
      "text/plain": [
       "RangeIndex(start=0, stop=4, step=1)"
      ]
     },
     "execution_count": 32,
     "metadata": {},
     "output_type": "execute_result"
    }
   ],
   "source": [
    "# returns a object that makes up an index \n",
    "adjective.index"
   ]
  },
  {
   "cell_type": "code",
   "execution_count": 34,
   "id": "4b578ff4",
   "metadata": {},
   "outputs": [
    {
     "data": {
      "text/plain": [
       "pandas.core.indexes.range.RangeIndex"
      ]
     },
     "execution_count": 34,
     "metadata": {},
     "output_type": "execute_result"
    }
   ],
   "source": [
    "type(adjective.index)"
   ]
  },
  {
   "cell_type": "code",
   "execution_count": 35,
   "id": "2859dff4",
   "metadata": {},
   "outputs": [
    {
     "data": {
      "text/plain": [
       "dtype('O')"
      ]
     },
     "execution_count": 35,
     "metadata": {},
     "output_type": "execute_result"
    }
   ],
   "source": [
    "adjective.dtype"
   ]
  },
  {
   "cell_type": "markdown",
   "id": "9543d323",
   "metadata": {},
   "source": [
    "## Importing Data"
   ]
  },
  {
   "cell_type": "code",
   "execution_count": 25,
   "id": "42bf6334",
   "metadata": {},
   "outputs": [],
   "source": [
    "pokemon_series = pd.read_csv(\"data/pokemon.csv\", usecols = [\"Pokemon\"]).squeeze(\"columns\") # usecols are columns we want to keep \n",
    "# squeeze() turn 1 col df to series "
   ]
  },
  {
   "cell_type": "code",
   "execution_count": 18,
   "id": "db60d669",
   "metadata": {},
   "outputs": [
    {
     "data": {
      "text/plain": [
       "0       Bulbasaur\n",
       "1         Ivysaur\n",
       "2        Venusaur\n",
       "3      Charmander\n",
       "4      Charmeleon\n",
       "          ...    \n",
       "716       Yveltal\n",
       "717       Zygarde\n",
       "718       Diancie\n",
       "719         Hoopa\n",
       "720     Volcanion\n",
       "Name: Pokemon, Length: 721, dtype: object"
      ]
     },
     "execution_count": 18,
     "metadata": {},
     "output_type": "execute_result"
    }
   ],
   "source": [
    "pokemon_series"
   ]
  },
  {
   "cell_type": "code",
   "execution_count": 22,
   "id": "fee22cae",
   "metadata": {},
   "outputs": [],
   "source": [
    "stockprice_series = pd.read_csv(\"data/google_stock_price.csv\", usecols = [\"Stock Price\"]).squeeze(\"columns\")"
   ]
  },
  {
   "cell_type": "markdown",
   "id": "450af80b",
   "metadata": {},
   "source": [
    "## Head or Tails Methods  "
   ]
  },
  {
   "cell_type": "code",
   "execution_count": 24,
   "id": "1727c190",
   "metadata": {},
   "outputs": [
    {
     "data": {
      "text/plain": [
       "0     Bulbasaur\n",
       "1       Ivysaur\n",
       "2      Venusaur\n",
       "3    Charmander\n",
       "4    Charmeleon\n",
       "Name: Pokemon, dtype: object"
      ]
     },
     "execution_count": 24,
     "metadata": {},
     "output_type": "execute_result"
    }
   ],
   "source": [
    "pokemon_series.head()"
   ]
  },
  {
   "cell_type": "code",
   "execution_count": 26,
   "id": "cc5edf77",
   "metadata": {},
   "outputs": [
    {
     "data": {
      "text/plain": [
       "716      Yveltal\n",
       "717      Zygarde\n",
       "718      Diancie\n",
       "719        Hoopa\n",
       "720    Volcanion\n",
       "Name: Pokemon, dtype: object"
      ]
     },
     "execution_count": 26,
     "metadata": {},
     "output_type": "execute_result"
    }
   ],
   "source": [
    "pokemon_series.tail()"
   ]
  },
  {
   "cell_type": "code",
   "execution_count": 27,
   "id": "7ceda50f",
   "metadata": {},
   "outputs": [
    {
     "data": {
      "text/plain": [
       "0    50.12\n",
       "1    54.10\n",
       "2    54.65\n",
       "3    52.38\n",
       "4    52.95\n",
       "Name: Stock Price, dtype: float64"
      ]
     },
     "execution_count": 27,
     "metadata": {},
     "output_type": "execute_result"
    }
   ],
   "source": [
    "stockprice_series.head()"
   ]
  },
  {
   "cell_type": "code",
   "execution_count": 28,
   "id": "ac813c53",
   "metadata": {},
   "outputs": [
    {
     "data": {
      "text/plain": [
       "3007    772.88\n",
       "3008    771.07\n",
       "3009    773.18\n",
       "3010    771.61\n",
       "3011    782.22\n",
       "Name: Stock Price, dtype: float64"
      ]
     },
     "execution_count": 28,
     "metadata": {},
     "output_type": "execute_result"
    }
   ],
   "source": [
    "stockprice_series.tail()"
   ]
  },
  {
   "cell_type": "markdown",
   "id": "a6487106",
   "metadata": {},
   "source": [
    "## built in python functions "
   ]
  },
  {
   "cell_type": "code",
   "execution_count": 45,
   "id": "25d5b18e",
   "metadata": {},
   "outputs": [
    {
     "data": {
      "text/plain": [
       "'Abomasnow'"
      ]
     },
     "execution_count": 45,
     "metadata": {},
     "output_type": "execute_result"
    }
   ],
   "source": [
    "len(pokemon_series)\n",
    "type(pokemon_series)\n",
    "dir(pokemon_series) #returns a list of methods in object\n",
    "sorted(pokemon_series) #returns a list (converted from series)\n",
    "list(pokemon_series)\n",
    "dict(pokemon_series) #this seems super useful. but remember series labels can allows duplicates \n",
    "max(pokemon_series) #max of alphabet\n",
    "min(pokemon_series) #min of alphabet"
   ]
  },
  {
   "cell_type": "markdown",
   "id": "afc10b17",
   "metadata": {},
   "source": [
    "## Check for inclusion with python's 'in' keyword "
   ]
  },
  {
   "cell_type": "code",
   "execution_count": 2,
   "id": "5c709605",
   "metadata": {},
   "outputs": [
    {
     "ename": "NameError",
     "evalue": "name 'pokemon_series' is not defined",
     "output_type": "error",
     "traceback": [
      "\u001b[1;31m---------------------------------------------------------------------------\u001b[0m",
      "\u001b[1;31mNameError\u001b[0m                                 Traceback (most recent call last)",
      "\u001b[1;32m<ipython-input-2-d6d890021896>\u001b[0m in \u001b[0;36m<module>\u001b[1;34m\u001b[0m\n\u001b[0;32m      1\u001b[0m \u001b[1;31m# will check in series index not values\u001b[0m\u001b[1;33m\u001b[0m\u001b[1;33m\u001b[0m\u001b[1;33m\u001b[0m\u001b[0m\n\u001b[0;32m      2\u001b[0m \u001b[1;33m\u001b[0m\u001b[0m\n\u001b[1;32m----> 3\u001b[1;33m \u001b[1;36m100\u001b[0m \u001b[1;32min\u001b[0m \u001b[0mpokemon_series\u001b[0m\u001b[1;33m.\u001b[0m\u001b[0mindex\u001b[0m\u001b[1;33m\u001b[0m\u001b[1;33m\u001b[0m\u001b[0m\n\u001b[0m\u001b[0;32m      4\u001b[0m \u001b[1;36m100\u001b[0m \u001b[1;32min\u001b[0m \u001b[0mpokemon_series\u001b[0m\u001b[1;33m\u001b[0m\u001b[1;33m\u001b[0m\u001b[0m\n\u001b[0;32m      5\u001b[0m \u001b[1;33m\u001b[0m\u001b[0m\n",
      "\u001b[1;31mNameError\u001b[0m: name 'pokemon_series' is not defined"
     ]
    }
   ],
   "source": [
    "# will check in series index not values \n",
    "\n",
    "100 in pokemon_series.index \n",
    "100 in pokemon_series\n",
    "\n"
   ]
  },
  {
   "cell_type": "code",
   "execution_count": 76,
   "id": "4741e658",
   "metadata": {},
   "outputs": [
    {
     "data": {
      "text/plain": [
       "True"
      ]
     },
     "execution_count": 76,
     "metadata": {},
     "output_type": "execute_result"
    }
   ],
   "source": [
    "\"Bulbasaur\" in pokemon_series.values\n",
    "\"Pikachu\" in pokemon_series.values"
   ]
  },
  {
   "cell_type": "markdown",
   "id": "09258e26",
   "metadata": {},
   "source": [
    "## Extract series value by index position "
   ]
  },
  {
   "cell_type": "code",
   "execution_count": 19,
   "id": "82dfb889",
   "metadata": {},
   "outputs": [
    {
     "data": {
      "text/plain": [
       "701      Dedenne\n",
       "702      Carbink\n",
       "703        Goomy\n",
       "704      Sliggoo\n",
       "705       Goodra\n",
       "706       Klefki\n",
       "707     Phantump\n",
       "708    Trevenant\n",
       "709    Pumpkaboo\n",
       "710    Gourgeist\n",
       "711     Bergmite\n",
       "712      Avalugg\n",
       "713       Noibat\n",
       "714      Noivern\n",
       "715      Xerneas\n",
       "716      Yveltal\n",
       "717      Zygarde\n",
       "718      Diancie\n",
       "719        Hoopa\n",
       "720    Volcanion\n",
       "Name: Pokemon, dtype: object"
      ]
     },
     "execution_count": 19,
     "metadata": {},
     "output_type": "execute_result"
    }
   ],
   "source": [
    "pokemon_series[0]\n",
    "pokemon_series[500]\n",
    "\n",
    "pokemon_series[[0, 1, 2]] # can grab multiple values by passing in a list \n",
    "\n",
    "\n",
    "pokemon_series[0:3] # ending index position is exclusive \n",
    "pokemon_series[700:]\n",
    "\n",
    "pokemon_series[-20:-10] # pull from 20th to 10th from the end \n",
    "pokemon_series[-20:] # equivalent to the tail method \n"
   ]
  },
  {
   "cell_type": "markdown",
   "id": "2f409039",
   "metadata": {},
   "source": [
    "## Extract Series Value by Index Label "
   ]
  },
  {
   "cell_type": "code",
   "execution_count": 30,
   "id": "66fe831a",
   "metadata": {},
   "outputs": [
    {
     "data": {
      "text/plain": [
       "'Psychic'"
      ]
     },
     "execution_count": 30,
     "metadata": {},
     "output_type": "execute_result"
    }
   ],
   "source": [
    "pokemon[\"Mewtwo\"]"
   ]
  },
  {
   "cell_type": "code",
   "execution_count": 33,
   "id": "454be81d",
   "metadata": {},
   "outputs": [
    {
     "data": {
      "text/plain": [
       "Pokemon\n",
       "Mewtwo      Psychic\n",
       "Jolteon    Electric\n",
       "Name: Type, dtype: object"
      ]
     },
     "execution_count": 33,
     "metadata": {},
     "output_type": "execute_result"
    }
   ],
   "source": [
    "pokemon[[\"Mewtwo\", \"Jolteon\"]]"
   ]
  },
  {
   "cell_type": "markdown",
   "id": "f5109874",
   "metadata": {},
   "source": [
    "## get method "
   ]
  },
  {
   "cell_type": "code",
   "execution_count": 50,
   "id": "4ddc4e5f",
   "metadata": {},
   "outputs": [
    {
     "data": {
      "text/plain": [
       "'not everything exits'"
      ]
     },
     "execution_count": 50,
     "metadata": {},
     "output_type": "execute_result"
    }
   ],
   "source": [
    "pokemon.get(0)\n",
    "pokemon.get(\"Bulbasaur\")\n",
    "pokemon.get([5,10])\n",
    "pokemon.get([\"Mewtwo\", \"Meowth\"])\n",
    "\n",
    "pokemon.get(\"Digimon\", \"Nonexistent\") # gets nice because it returns None if it doesn't exist \n",
    "pokemon.get(\"Digimon\", \"Nonexistent\") # gets nice because it returns None if it doesn't exist \n",
    "pokemon.get([\"Moltres\", \"Digimon\"], \"not everything exists\")"
   ]
  },
  {
   "cell_type": "markdown",
   "id": "9fa68e5c",
   "metadata": {},
   "source": [
    "## Overwrite a Series Value "
   ]
  },
  {
   "cell_type": "code",
   "execution_count": 53,
   "id": "65d9cc5e",
   "metadata": {},
   "outputs": [],
   "source": [
    "pokemon_series[0] = \"Borisaur\""
   ]
  },
  {
   "cell_type": "code",
   "execution_count": 55,
   "id": "27429308",
   "metadata": {},
   "outputs": [
    {
     "data": {
      "text/plain": [
       "0      Borisaur\n",
       "1       Ivysaur\n",
       "2      Venusaur\n",
       "3    Charmander\n",
       "4    Charmeleon\n",
       "Name: Pokemon, dtype: object"
      ]
     },
     "execution_count": 55,
     "metadata": {},
     "output_type": "execute_result"
    }
   ],
   "source": [
    "pokemon_series.head()"
   ]
  },
  {
   "cell_type": "code",
   "execution_count": 57,
   "id": "883a1c9e",
   "metadata": {},
   "outputs": [],
   "source": [
    "pokemon_series[1500] = \"Hello\""
   ]
  },
  {
   "cell_type": "code",
   "execution_count": 58,
   "id": "d203607c",
   "metadata": {},
   "outputs": [
    {
     "data": {
      "text/plain": [
       "0         Borisaur\n",
       "1          Ivysaur\n",
       "2         Venusaur\n",
       "3       Charmander\n",
       "4       Charmeleon\n",
       "           ...    \n",
       "717        Zygarde\n",
       "718        Diancie\n",
       "719          Hoopa\n",
       "720      Volcanion\n",
       "1500         Hello\n",
       "Name: Pokemon, Length: 722, dtype: object"
      ]
     },
     "execution_count": 58,
     "metadata": {},
     "output_type": "execute_result"
    }
   ],
   "source": [
    "pokemon_series"
   ]
  },
  {
   "cell_type": "code",
   "execution_count": 62,
   "id": "f6f2ea46",
   "metadata": {},
   "outputs": [],
   "source": [
    "pokemon_series[[1,2,4]] = [\"Firemon\", \"flamemon\", \"blazemon\"]"
   ]
  },
  {
   "cell_type": "code",
   "execution_count": 63,
   "id": "939ea5d2",
   "metadata": {},
   "outputs": [
    {
     "data": {
      "text/plain": [
       "0         Borisaur\n",
       "1          Firemon\n",
       "2         flamemon\n",
       "3       Charmander\n",
       "4         blazemon\n",
       "           ...    \n",
       "717        Zygarde\n",
       "718        Diancie\n",
       "719          Hoopa\n",
       "720      Volcanion\n",
       "1500         Hello\n",
       "Name: Pokemon, Length: 722, dtype: object"
      ]
     },
     "execution_count": 63,
     "metadata": {},
     "output_type": "execute_result"
    }
   ],
   "source": [
    "pokemon_series"
   ]
  },
  {
   "cell_type": "code",
   "execution_count": 65,
   "id": "78dd28d4",
   "metadata": {},
   "outputs": [],
   "source": [
    "pokemon[\"Bulbasaur\"] = \"awesomemon\""
   ]
  },
  {
   "cell_type": "code",
   "execution_count": 66,
   "id": "58c4e21c",
   "metadata": {},
   "outputs": [
    {
     "data": {
      "text/plain": [
       "Pokemon\n",
       "Bulbasaur     awesomemon\n",
       "Ivysaur          Firemon\n",
       "Venusaur        flamemon\n",
       "Charmander          Fire\n",
       "Charmeleon      blazemon\n",
       "Name: Type, dtype: object"
      ]
     },
     "execution_count": 66,
     "metadata": {},
     "output_type": "execute_result"
    }
   ],
   "source": [
    "pokemon.head()"
   ]
  },
  {
   "cell_type": "markdown",
   "id": "36c915b7",
   "metadata": {},
   "source": [
    "## The Copy Method  "
   ]
  },
  {
   "cell_type": "code",
   "execution_count": 71,
   "id": "ec8a3085",
   "metadata": {},
   "outputs": [],
   "source": [
    "pokemon_df = pd.read_csv(\"data/pokemon.csv\", usecols= [\"Pokemon\"])\n",
    "pokemon_series = pokemon_df.squeeze(\"columns\")"
   ]
  },
  {
   "cell_type": "code",
   "execution_count": 74,
   "id": "1282b18b",
   "metadata": {},
   "outputs": [
    {
     "data": {
      "text/plain": [
       "0    WHATVEVER\n",
       "Name: Pokemon, dtype: object"
      ]
     },
     "execution_count": 74,
     "metadata": {},
     "output_type": "execute_result"
    }
   ],
   "source": [
    "pokemon_series[0] = \"WHATVEVER\"\n",
    "pokemon_series.head(1)"
   ]
  },
  {
   "cell_type": "code",
   "execution_count": 75,
   "id": "de71b4b3",
   "metadata": {},
   "outputs": [
    {
     "data": {
      "text/html": [
       "<div>\n",
       "<style scoped>\n",
       "    .dataframe tbody tr th:only-of-type {\n",
       "        vertical-align: middle;\n",
       "    }\n",
       "\n",
       "    .dataframe tbody tr th {\n",
       "        vertical-align: top;\n",
       "    }\n",
       "\n",
       "    .dataframe thead th {\n",
       "        text-align: right;\n",
       "    }\n",
       "</style>\n",
       "<table border=\"1\" class=\"dataframe\">\n",
       "  <thead>\n",
       "    <tr style=\"text-align: right;\">\n",
       "      <th></th>\n",
       "      <th>Pokemon</th>\n",
       "    </tr>\n",
       "  </thead>\n",
       "  <tbody>\n",
       "    <tr>\n",
       "      <th>0</th>\n",
       "      <td>WHATVEVER</td>\n",
       "    </tr>\n",
       "    <tr>\n",
       "      <th>1</th>\n",
       "      <td>Ivysaur</td>\n",
       "    </tr>\n",
       "    <tr>\n",
       "      <th>2</th>\n",
       "      <td>Venusaur</td>\n",
       "    </tr>\n",
       "    <tr>\n",
       "      <th>3</th>\n",
       "      <td>Charmander</td>\n",
       "    </tr>\n",
       "    <tr>\n",
       "      <th>4</th>\n",
       "      <td>Charmeleon</td>\n",
       "    </tr>\n",
       "    <tr>\n",
       "      <th>...</th>\n",
       "      <td>...</td>\n",
       "    </tr>\n",
       "    <tr>\n",
       "      <th>716</th>\n",
       "      <td>Yveltal</td>\n",
       "    </tr>\n",
       "    <tr>\n",
       "      <th>717</th>\n",
       "      <td>Zygarde</td>\n",
       "    </tr>\n",
       "    <tr>\n",
       "      <th>718</th>\n",
       "      <td>Diancie</td>\n",
       "    </tr>\n",
       "    <tr>\n",
       "      <th>719</th>\n",
       "      <td>Hoopa</td>\n",
       "    </tr>\n",
       "    <tr>\n",
       "      <th>720</th>\n",
       "      <td>Volcanion</td>\n",
       "    </tr>\n",
       "  </tbody>\n",
       "</table>\n",
       "<p>721 rows × 1 columns</p>\n",
       "</div>"
      ],
      "text/plain": [
       "        Pokemon\n",
       "0     WHATVEVER\n",
       "1       Ivysaur\n",
       "2      Venusaur\n",
       "3    Charmander\n",
       "4    Charmeleon\n",
       "..          ...\n",
       "716     Yveltal\n",
       "717     Zygarde\n",
       "718     Diancie\n",
       "719       Hoopa\n",
       "720   Volcanion\n",
       "\n",
       "[721 rows x 1 columns]"
      ]
     },
     "execution_count": 75,
     "metadata": {},
     "output_type": "execute_result"
    }
   ],
   "source": [
    "pokemon_df #changed the original df. "
   ]
  },
  {
   "cell_type": "code",
   "execution_count": 138,
   "id": "c275e546",
   "metadata": {},
   "outputs": [],
   "source": [
    "pokemon_df = pd.read_csv(\"data/pokemon.csv\", usecols= [\"Pokemon\"])\n",
    "pokemon_series = pokemon_df.squeeze(\"columns\").copy()"
   ]
  },
  {
   "cell_type": "code",
   "execution_count": 80,
   "id": "e5099bb0",
   "metadata": {},
   "outputs": [],
   "source": [
    "pokemon_series[0] = \"Whatever\""
   ]
  },
  {
   "cell_type": "code",
   "execution_count": 81,
   "id": "744a6b0e",
   "metadata": {},
   "outputs": [
    {
     "data": {
      "text/plain": [
       "0    Whatever\n",
       "Name: Pokemon, dtype: object"
      ]
     },
     "execution_count": 81,
     "metadata": {},
     "output_type": "execute_result"
    }
   ],
   "source": [
    "pokemon_series.head(1)"
   ]
  },
  {
   "cell_type": "code",
   "execution_count": 82,
   "id": "4e014be9",
   "metadata": {},
   "outputs": [
    {
     "data": {
      "text/html": [
       "<div>\n",
       "<style scoped>\n",
       "    .dataframe tbody tr th:only-of-type {\n",
       "        vertical-align: middle;\n",
       "    }\n",
       "\n",
       "    .dataframe tbody tr th {\n",
       "        vertical-align: top;\n",
       "    }\n",
       "\n",
       "    .dataframe thead th {\n",
       "        text-align: right;\n",
       "    }\n",
       "</style>\n",
       "<table border=\"1\" class=\"dataframe\">\n",
       "  <thead>\n",
       "    <tr style=\"text-align: right;\">\n",
       "      <th></th>\n",
       "      <th>Pokemon</th>\n",
       "    </tr>\n",
       "  </thead>\n",
       "  <tbody>\n",
       "    <tr>\n",
       "      <th>0</th>\n",
       "      <td>Bulbasaur</td>\n",
       "    </tr>\n",
       "    <tr>\n",
       "      <th>1</th>\n",
       "      <td>Ivysaur</td>\n",
       "    </tr>\n",
       "    <tr>\n",
       "      <th>2</th>\n",
       "      <td>Venusaur</td>\n",
       "    </tr>\n",
       "    <tr>\n",
       "      <th>3</th>\n",
       "      <td>Charmander</td>\n",
       "    </tr>\n",
       "    <tr>\n",
       "      <th>4</th>\n",
       "      <td>Charmeleon</td>\n",
       "    </tr>\n",
       "    <tr>\n",
       "      <th>...</th>\n",
       "      <td>...</td>\n",
       "    </tr>\n",
       "    <tr>\n",
       "      <th>716</th>\n",
       "      <td>Yveltal</td>\n",
       "    </tr>\n",
       "    <tr>\n",
       "      <th>717</th>\n",
       "      <td>Zygarde</td>\n",
       "    </tr>\n",
       "    <tr>\n",
       "      <th>718</th>\n",
       "      <td>Diancie</td>\n",
       "    </tr>\n",
       "    <tr>\n",
       "      <th>719</th>\n",
       "      <td>Hoopa</td>\n",
       "    </tr>\n",
       "    <tr>\n",
       "      <th>720</th>\n",
       "      <td>Volcanion</td>\n",
       "    </tr>\n",
       "  </tbody>\n",
       "</table>\n",
       "<p>721 rows × 1 columns</p>\n",
       "</div>"
      ],
      "text/plain": [
       "        Pokemon\n",
       "0     Bulbasaur\n",
       "1       Ivysaur\n",
       "2      Venusaur\n",
       "3    Charmander\n",
       "4    Charmeleon\n",
       "..          ...\n",
       "716     Yveltal\n",
       "717     Zygarde\n",
       "718     Diancie\n",
       "719       Hoopa\n",
       "720   Volcanion\n",
       "\n",
       "[721 rows x 1 columns]"
      ]
     },
     "execution_count": 82,
     "metadata": {},
     "output_type": "execute_result"
    }
   ],
   "source": [
    "pokemon_df"
   ]
  },
  {
   "cell_type": "code",
   "execution_count": 83,
   "id": "edfe64f8",
   "metadata": {},
   "outputs": [
    {
     "data": {
      "text/plain": [
       "0        Whatever\n",
       "1         Ivysaur\n",
       "2        Venusaur\n",
       "3      Charmander\n",
       "4      Charmeleon\n",
       "          ...    \n",
       "716       Yveltal\n",
       "717       Zygarde\n",
       "718       Diancie\n",
       "719         Hoopa\n",
       "720     Volcanion\n",
       "Name: Pokemon, Length: 721, dtype: object"
      ]
     },
     "execution_count": 83,
     "metadata": {},
     "output_type": "execute_result"
    }
   ],
   "source": [
    "pokemon_series"
   ]
  },
  {
   "cell_type": "markdown",
   "id": "e18a3c02",
   "metadata": {},
   "source": [
    "## Inplace Parameter "
   ]
  },
  {
   "cell_type": "code",
   "execution_count": 125,
   "id": "2bab10a9",
   "metadata": {},
   "outputs": [
    {
     "data": {
      "text/plain": [
       "0        50.12\n",
       "1        54.10\n",
       "2        54.65\n",
       "3        52.38\n",
       "4        52.95\n",
       "         ...  \n",
       "3007    772.88\n",
       "3008    771.07\n",
       "3009    773.18\n",
       "3010    771.61\n",
       "3011    782.22\n",
       "Name: Stock Price, Length: 3012, dtype: float64"
      ]
     },
     "execution_count": 125,
     "metadata": {},
     "output_type": "execute_result"
    }
   ],
   "source": [
    "google = (\n",
    "    pd.read_csv(\"data/google_stock_price.csv\", usecols = [\"Stock Price\"])\n",
    "    .squeeze(\"columns\")\n",
    "    .copy()\n",
    ")\n",
    "\n",
    "google"
   ]
  },
  {
   "cell_type": "code",
   "execution_count": 87,
   "id": "68b784d4",
   "metadata": {},
   "outputs": [],
   "source": [
    "google = google.sort_values()"
   ]
  },
  {
   "cell_type": "code",
   "execution_count": 90,
   "id": "85f2a985",
   "metadata": {},
   "outputs": [
    {
     "data": {
      "text/plain": [
       "0    50.12\n",
       "1    54.10\n",
       "2    54.65\n",
       "3    52.38\n",
       "4    52.95\n",
       "Name: Stock Price, dtype: float64"
      ]
     },
     "execution_count": 90,
     "metadata": {},
     "output_type": "execute_result"
    }
   ],
   "source": [
    "google.head()"
   ]
  },
  {
   "cell_type": "code",
   "execution_count": 91,
   "id": "71e2c7b4",
   "metadata": {},
   "outputs": [],
   "source": [
    "google.sort_values(inplace = True) # sorts the original object and data. might get deprecated. "
   ]
  },
  {
   "cell_type": "code",
   "execution_count": 92,
   "id": "26a3eb90",
   "metadata": {},
   "outputs": [
    {
     "data": {
      "text/plain": [
       "11       49.95\n",
       "9        50.07\n",
       "0        50.12\n",
       "10       50.70\n",
       "12       50.74\n",
       "         ...  \n",
       "3010    771.61\n",
       "3007    772.88\n",
       "3009    773.18\n",
       "2859    776.60\n",
       "3011    782.22\n",
       "Name: Stock Price, Length: 3012, dtype: float64"
      ]
     },
     "execution_count": 92,
     "metadata": {},
     "output_type": "execute_result"
    }
   ],
   "source": [
    "google"
   ]
  },
  {
   "cell_type": "code",
   "execution_count": null,
   "id": "4c0bfccc",
   "metadata": {},
   "outputs": [],
   "source": [
    "# we can't modify a view, remember to create a copy to modify the series."
   ]
  },
  {
   "cell_type": "markdown",
   "id": "17afe151",
   "metadata": {},
   "source": [
    "## Math Method \n"
   ]
  },
  {
   "cell_type": "code",
   "execution_count": 103,
   "id": "566aa694",
   "metadata": {},
   "outputs": [
    {
     "data": {
      "text/plain": [
       "count    3012.000000\n",
       "mean      334.310093\n",
       "std       173.187205\n",
       "min        49.950000\n",
       "25%       218.045000\n",
       "50%       283.315000\n",
       "75%       443.000000\n",
       "max       782.220000\n",
       "Name: Stock Price, dtype: float64"
      ]
     },
     "execution_count": 103,
     "metadata": {},
     "output_type": "execute_result"
    }
   ],
   "source": [
    "google.count()\n",
    "google.sum()\n",
    "google.mean()\n",
    "google.product()\n",
    "google.std()\n",
    "google.min()\n",
    "google.max()\n",
    "google.median()\n",
    "google.mode()\n",
    "google.describe()"
   ]
  },
  {
   "cell_type": "markdown",
   "id": "ad7546fd",
   "metadata": {},
   "source": [
    "## Broadcasting"
   ]
  },
  {
   "cell_type": "code",
   "execution_count": 111,
   "id": "8bdb1b17",
   "metadata": {},
   "outputs": [
    {
     "data": {
      "text/plain": [
       "0        60.12\n",
       "1        64.10\n",
       "2        64.65\n",
       "3        62.38\n",
       "4        62.95\n",
       "         ...  \n",
       "3007    782.88\n",
       "3008    781.07\n",
       "3009    783.18\n",
       "3010    781.61\n",
       "3011    792.22\n",
       "Name: Stock Price, Length: 3012, dtype: float64"
      ]
     },
     "execution_count": 111,
     "metadata": {},
     "output_type": "execute_result"
    }
   ],
   "source": [
    "google + 10\n",
    "google - 30\n",
    "google * 2\n",
    "\n",
    "# there are method equilavence to broadcasting \n",
    "google.add(10)"
   ]
  },
  {
   "cell_type": "markdown",
   "id": "896739b5",
   "metadata": {},
   "source": [
    "## value_counts method "
   ]
  },
  {
   "cell_type": "code",
   "execution_count": 113,
   "id": "29e5e625",
   "metadata": {},
   "outputs": [
    {
     "data": {
      "text/plain": [
       "Water         105\n",
       "Normal         93\n",
       "Bug            63\n",
       "Grass          63\n",
       "Psychic        47\n",
       "Fire           46\n",
       "Rock           41\n",
       "Electric       36\n",
       "Ground         30\n",
       "Poison         28\n",
       "Dark           28\n",
       "Fighting       25\n",
       "Dragon         24\n",
       "Ice            23\n",
       "Ghost          23\n",
       "Steel          22\n",
       "Fairy          17\n",
       "Flying          3\n",
       "blazemon        1\n",
       "Firemon         1\n",
       "flamemon        1\n",
       "awesomemon      1\n",
       "Name: Type, dtype: int64"
      ]
     },
     "execution_count": 113,
     "metadata": {},
     "output_type": "execute_result"
    }
   ],
   "source": [
    "pokemon.value_counts()"
   ]
  },
  {
   "cell_type": "code",
   "execution_count": 116,
   "id": "8a6cb701",
   "metadata": {},
   "outputs": [
    {
     "data": {
      "text/plain": [
       "blazemon      1\n",
       "flamemon      1\n",
       "Firemon       1\n",
       "awesomemon    1\n",
       "Flying        3\n",
       "Name: Type, dtype: int64"
      ]
     },
     "execution_count": 116,
     "metadata": {},
     "output_type": "execute_result"
    }
   ],
   "source": [
    "pokemon.value_counts(ascending = True).head() # this returns a series so we can apply methods to it "
   ]
  },
  {
   "cell_type": "code",
   "execution_count": 119,
   "id": "1266fc46",
   "metadata": {},
   "outputs": [
    {
     "data": {
      "text/plain": [
       "Psychic        47\n",
       "Ice            23\n",
       "Ghost          23\n",
       "Dragon         24\n",
       "Flying          3\n",
       "flamemon        1\n",
       "Firemon         1\n",
       "Normal         93\n",
       "blazemon        1\n",
       "Ground         30\n",
       "Grass          63\n",
       "Steel          22\n",
       "Rock           41\n",
       "Fairy          17\n",
       "Poison         28\n",
       "Fighting       25\n",
       "Fire           46\n",
       "Bug            63\n",
       "awesomemon      1\n",
       "Dark           28\n",
       "Water         105\n",
       "Electric       36\n",
       "Name: Type, dtype: int64"
      ]
     },
     "execution_count": 119,
     "metadata": {},
     "output_type": "execute_result"
    }
   ],
   "source": [
    "pokemon.value_counts(sort = False) # corresponds to original index labels "
   ]
  },
  {
   "cell_type": "code",
   "execution_count": 124,
   "id": "9cdeaea9",
   "metadata": {},
   "outputs": [
    {
     "data": {
      "text/plain": [
       "Water         14.563107\n",
       "Normal        12.898752\n",
       "Bug            8.737864\n",
       "Grass          8.737864\n",
       "Psychic        6.518724\n",
       "Fire           6.380028\n",
       "Rock           5.686546\n",
       "Electric       4.993065\n",
       "Ground         4.160888\n",
       "Poison         3.883495\n",
       "Dark           3.883495\n",
       "Fighting       3.467406\n",
       "Dragon         3.328710\n",
       "Ice            3.190014\n",
       "Ghost          3.190014\n",
       "Steel          3.051318\n",
       "Fairy          2.357836\n",
       "Flying         0.416089\n",
       "blazemon       0.138696\n",
       "Firemon        0.138696\n",
       "flamemon       0.138696\n",
       "awesomemon     0.138696\n",
       "Name: Type, dtype: float64"
      ]
     },
     "execution_count": 124,
     "metadata": {},
     "output_type": "execute_result"
    }
   ],
   "source": [
    "\n",
    "pokemon.value_counts(normalize = True) * 100 # returns the percentages "
   ]
  },
  {
   "cell_type": "code",
   "execution_count": null,
   "id": "a27273d5",
   "metadata": {},
   "outputs": [],
   "source": [
    "#case sensitive so will count unique index labels. "
   ]
  },
  {
   "cell_type": "markdown",
   "id": "6c177e1e",
   "metadata": {},
   "source": [
    "## apply method "
   ]
  },
  {
   "cell_type": "code",
   "execution_count": 127,
   "id": "26f53590",
   "metadata": {},
   "outputs": [
    {
     "data": {
      "text/plain": [
       "5"
      ]
     },
     "execution_count": 127,
     "metadata": {},
     "output_type": "execute_result"
    }
   ],
   "source": [
    "len(\"grass\")"
   ]
  },
  {
   "cell_type": "code",
   "execution_count": 130,
   "id": "e4b1c5ae",
   "metadata": {},
   "outputs": [
    {
     "data": {
      "text/plain": [
       "Pokemon\n",
       "Bulbasaur     10\n",
       "Ivysaur        7\n",
       "Venusaur       8\n",
       "Charmander     4\n",
       "Charmeleon     8\n",
       "              ..\n",
       "Yveltal        4\n",
       "Zygarde        6\n",
       "Diancie        4\n",
       "Hoopa          7\n",
       "Volcanion      4\n",
       "Name: Type, Length: 721, dtype: int64"
      ]
     },
     "execution_count": 130,
     "metadata": {},
     "output_type": "execute_result"
    }
   ],
   "source": [
    "\n",
    "pokemon.apply(len) # remember to pass in the uninvoked function "
   ]
  },
  {
   "cell_type": "code",
   "execution_count": 140,
   "id": "ff5686b7",
   "metadata": {},
   "outputs": [],
   "source": [
    "def rank_pokemon(pokemon_type): \n",
    "    if pokemon_type in [\"Grass\", \"Fire\", \"Water\"]:\n",
    "        return \"Classic\"\n",
    "    elif pokemon_type == \"Normal\":\n",
    "        return \"Boring\"\n",
    "    else:\n",
    "        return \"TBD\"\n",
    " \n",
    "\n",
    "    "
   ]
  },
  {
   "cell_type": "code",
   "execution_count": 141,
   "id": "0189ffc5",
   "metadata": {},
   "outputs": [
    {
     "data": {
      "text/plain": [
       "Pokemon\n",
       "Bulbasaur     Classic\n",
       "Ivysaur       Classic\n",
       "Venusaur      Classic\n",
       "Charmander    Classic\n",
       "Charmeleon    Classic\n",
       "               ...   \n",
       "Yveltal           TBD\n",
       "Zygarde           TBD\n",
       "Diancie           TBD\n",
       "Hoopa             TBD\n",
       "Volcanion     Classic\n",
       "Name: Type, Length: 721, dtype: object"
      ]
     },
     "execution_count": 141,
     "metadata": {},
     "output_type": "execute_result"
    }
   ],
   "source": [
    "pokemon.apply(rank_pokemon) # applying the function we created"
   ]
  },
  {
   "cell_type": "markdown",
   "id": "1f9cd35f",
   "metadata": {},
   "source": [
    "## Map method "
   ]
  },
  {
   "cell_type": "code",
   "execution_count": 151,
   "id": "d30f0f57",
   "metadata": {},
   "outputs": [],
   "source": [
    "# associate every type to a ranking \n",
    "# using a dictionary to help \n",
    "\n",
    "mapping = {\n",
    "    \"Grass\": \"Classic\", \n",
    "    \"Fire\": \"Classic\",\n",
    "    \"Water\": \"Classic\",\n",
    "    \"Normal\": \"Boring\"\n",
    "}\n",
    "#apply method accepts a functin and map method accepts an assciations \n",
    "\n",
    "\n",
    "\n",
    "mappings_series = pd.Series(mapping) "
   ]
  },
  {
   "cell_type": "code",
   "execution_count": 145,
   "id": "af76322e",
   "metadata": {},
   "outputs": [
    {
     "data": {
      "text/plain": [
       "Pokemon\n",
       "Bulbasaur     Classic\n",
       "Ivysaur       Classic\n",
       "Venusaur      Classic\n",
       "Charmander    Classic\n",
       "Charmeleon    Classic\n",
       "               ...   \n",
       "Yveltal           NaN\n",
       "Zygarde           NaN\n",
       "Diancie           NaN\n",
       "Hoopa             NaN\n",
       "Volcanion     Classic\n",
       "Name: Type, Length: 721, dtype: object"
      ]
     },
     "execution_count": 145,
     "metadata": {},
     "output_type": "execute_result"
    }
   ],
   "source": [
    "\n",
    "pokemon.map(mapping)"
   ]
  },
  {
   "cell_type": "code",
   "execution_count": 147,
   "id": "e39624d5",
   "metadata": {},
   "outputs": [
    {
     "data": {
      "text/plain": [
       "Pokemon\n",
       "Yveltal         Dark\n",
       "Zygarde       Dragon\n",
       "Diancie         Rock\n",
       "Hoopa        Psychic\n",
       "Volcanion       Fire\n",
       "Name: Type, dtype: object"
      ]
     },
     "execution_count": 147,
     "metadata": {},
     "output_type": "execute_result"
    }
   ],
   "source": [
    "pokemon.tail() # can't find these types so it assciates it NaN"
   ]
  },
  {
   "cell_type": "code",
   "execution_count": 152,
   "id": "173fe8c7",
   "metadata": {},
   "outputs": [
    {
     "data": {
      "text/plain": [
       "Pokemon\n",
       "Bulbasaur     Classic\n",
       "Ivysaur       Classic\n",
       "Venusaur      Classic\n",
       "Charmander    Classic\n",
       "Charmeleon    Classic\n",
       "               ...   \n",
       "Yveltal           NaN\n",
       "Zygarde           NaN\n",
       "Diancie           NaN\n",
       "Hoopa             NaN\n",
       "Volcanion     Classic\n",
       "Name: Type, Length: 721, dtype: object"
      ]
     },
     "execution_count": 152,
     "metadata": {},
     "output_type": "execute_result"
    }
   ],
   "source": [
    "pokemon.map(mappings_series)"
   ]
  },
  {
   "cell_type": "code",
   "execution_count": null,
   "id": "5472be5b",
   "metadata": {},
   "outputs": [],
   "source": []
  },
  {
   "cell_type": "code",
   "execution_count": null,
   "id": "417b6fee",
   "metadata": {},
   "outputs": [],
   "source": []
  },
  {
   "cell_type": "code",
   "execution_count": null,
   "id": "e208f803",
   "metadata": {},
   "outputs": [],
   "source": []
  },
  {
   "cell_type": "code",
   "execution_count": null,
   "id": "f756f845",
   "metadata": {},
   "outputs": [],
   "source": []
  },
  {
   "cell_type": "code",
   "execution_count": null,
   "id": "a8e1129c",
   "metadata": {},
   "outputs": [],
   "source": []
  },
  {
   "cell_type": "code",
   "execution_count": null,
   "id": "0cafbb83",
   "metadata": {},
   "outputs": [],
   "source": []
  },
  {
   "cell_type": "code",
   "execution_count": null,
   "id": "e6eef01f",
   "metadata": {},
   "outputs": [],
   "source": []
  },
  {
   "cell_type": "code",
   "execution_count": null,
   "id": "50d817bd",
   "metadata": {},
   "outputs": [],
   "source": []
  },
  {
   "cell_type": "code",
   "execution_count": null,
   "id": "90d9ff12",
   "metadata": {},
   "outputs": [],
   "source": []
  },
  {
   "cell_type": "code",
   "execution_count": null,
   "id": "7beb11da",
   "metadata": {},
   "outputs": [],
   "source": []
  },
  {
   "cell_type": "code",
   "execution_count": null,
   "id": "3e936f84",
   "metadata": {},
   "outputs": [],
   "source": []
  },
  {
   "cell_type": "code",
   "execution_count": null,
   "id": "322b479f",
   "metadata": {},
   "outputs": [],
   "source": []
  },
  {
   "cell_type": "code",
   "execution_count": null,
   "id": "7923bc9b",
   "metadata": {},
   "outputs": [],
   "source": []
  },
  {
   "cell_type": "code",
   "execution_count": null,
   "id": "49af1fb6",
   "metadata": {},
   "outputs": [],
   "source": []
  },
  {
   "cell_type": "code",
   "execution_count": null,
   "id": "c8b79b87",
   "metadata": {},
   "outputs": [],
   "source": []
  },
  {
   "cell_type": "code",
   "execution_count": null,
   "id": "3c6e5e62",
   "metadata": {},
   "outputs": [],
   "source": []
  },
  {
   "cell_type": "code",
   "execution_count": null,
   "id": "256890df",
   "metadata": {},
   "outputs": [],
   "source": []
  },
  {
   "cell_type": "code",
   "execution_count": null,
   "id": "95a1413f",
   "metadata": {},
   "outputs": [],
   "source": []
  },
  {
   "cell_type": "code",
   "execution_count": null,
   "id": "d7a4d41e",
   "metadata": {},
   "outputs": [],
   "source": []
  },
  {
   "cell_type": "code",
   "execution_count": null,
   "id": "9ecebe60",
   "metadata": {},
   "outputs": [],
   "source": []
  },
  {
   "cell_type": "code",
   "execution_count": null,
   "id": "6e0b85a3",
   "metadata": {},
   "outputs": [],
   "source": []
  },
  {
   "cell_type": "code",
   "execution_count": null,
   "id": "e0330afb",
   "metadata": {},
   "outputs": [],
   "source": []
  },
  {
   "cell_type": "code",
   "execution_count": null,
   "id": "356c3f3a",
   "metadata": {},
   "outputs": [],
   "source": []
  }
 ],
 "metadata": {
  "kernelspec": {
   "display_name": "Python 3",
   "language": "python",
   "name": "python3"
  },
  "language_info": {
   "codemirror_mode": {
    "name": "ipython",
    "version": 3
   },
   "file_extension": ".py",
   "mimetype": "text/x-python",
   "name": "python",
   "nbconvert_exporter": "python",
   "pygments_lexer": "ipython3",
   "version": "3.8.8"
  }
 },
 "nbformat": 4,
 "nbformat_minor": 5
}
